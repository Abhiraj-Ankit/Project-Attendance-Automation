{
  "nbformat": 4,
  "nbformat_minor": 0,
  "metadata": {
    "colab": {
      "name": "First_detect.ipynb",
      "provenance": [],
      "collapsed_sections": [],
      "include_colab_link": true
    },
    "kernelspec": {
      "name": "python3",
      "display_name": "Python 3"
    }
  },
  "cells": [
    {
      "cell_type": "markdown",
      "metadata": {
        "id": "view-in-github",
        "colab_type": "text"
      },
      "source": [
        "<a href=\"https://colab.research.google.com/github/Abhiraj-Ankit/Project-Attendance-Automation/blob/master/Facial_detection.ipynb\" target=\"_parent\"><img src=\"https://colab.research.google.com/assets/colab-badge.svg\" alt=\"Open In Colab\"/></a>"
      ]
    },
    {
      "cell_type": "code",
      "metadata": {
        "id": "n1RLPXrTO1d9",
        "colab_type": "code",
        "colab": {}
      },
      "source": [
        "import numpy as np\n",
        "import pandas as pd\n",
        "import os\n",
        "import csv\n",
        "import cv2\n",
        "from time import sleep"
      ],
      "execution_count": 0,
      "outputs": []
    },
    {
      "cell_type": "code",
      "metadata": {
        "id": "itcglVuzO-i4",
        "colab_type": "code",
        "outputId": "af9c4669-d8c9-452c-802c-837eadccc7ef",
        "colab": {
          "base_uri": "https://localhost:8080/",
          "height": 54
        }
      },
      "source": [
        "from google.colab import drive\n",
        "drive.mount('/content/drive')"
      ],
      "execution_count": 0,
      "outputs": [
        {
          "output_type": "stream",
          "text": [
            "Drive already mounted at /content/drive; to attempt to forcibly remount, call drive.mount(\"/content/drive\", force_remount=True).\n"
          ],
          "name": "stdout"
        }
      ]
    },
    {
      "cell_type": "code",
      "metadata": {
        "id": "wH-7ht4CgAyz",
        "colab_type": "code",
        "colab": {}
      },
      "source": [
        "def detect():\n",
        "    filename = '/content/sample_data/data/third_year_5sem_IT2.xlsx'\n",
        "\n",
        "    fname = 'content/drive/My Drive/Colab Notebooks/Project/recognizer/trainingData.yml'\n",
        "    if not os.path.isfile(fname):\n",
        "        print('first train the data')\n",
        "        exit(0)\n",
        "\n",
        "\n",
        "    names = {}\n",
        "    labels = []\n",
        "    students = []\n",
        "\n",
        "\n",
        "    def from_excel_to_csv():\n",
        "        df = pd.read_excel(filename,index=False)\n",
        "        df.to_csv('/content/sample_data/data/data.csv')\n",
        "\n",
        "    def getdata():\n",
        "        with open('data.csv','r') as f:\n",
        "            data = csv.reader(f)\n",
        "            next(data)\n",
        "            lines = list(data)\n",
        "            for line in lines:\n",
        "                names[int(line[0])] = line[1]\n",
        "\n",
        "\n",
        "    def  markPresent(name):\n",
        "        with open('data.csv','r') as f:\n",
        "            data = csv.reader(f)\n",
        "            lines = list(data)\n",
        "            # for line in lines:\n",
        "            #     line.pop(0)\n",
        "            # print(lines)\n",
        "            for line in lines:\n",
        "                if line[1] == name:\n",
        "                    line[-1] = '1'\n",
        "                    with open('data.csv','w') as g:\n",
        "                        writer = csv.writer(g,lineterminator='\\n')\n",
        "                        writer.writerows(lines)\n",
        "                        break\n",
        "        \n",
        "        # df = pd.read_csv('data.csv')\n",
        "        # df.to_excel('data.xlsx',index=False)\n",
        "\n",
        "    def update_Excel():\n",
        "        with open('data.csv') as f:\n",
        "            data = csv.reader(f)\n",
        "            lines = list(data)\n",
        "            for line in lines:\n",
        "                line.pop(0)\n",
        "            with open('data.csv','w') as g:\n",
        "                writer = csv.writer(g,lineterminator='\\n')\n",
        "                writer.writerows(lines)\n",
        "                \n",
        "        df = pd.read_csv('data.csv')\n",
        "        df.to_excel('data.xlsx',index = False)\n",
        "        \n",
        "\n",
        "    face_cascade = cv2.CascadeClassifier('content/drive/My Drive/Colab Notebooks/Automated-Attendance-System-By-Real-Time-Face-Reccognition-master/haarcascade/haarcascade_frontalface_default.xml')\n",
        "    cap = cv2.VideoCapture('/content/drive/My Drive/Colab Notebooks/Project/test_videos/test_videos/01.mp4')\n",
        "\n",
        "    # cap.set(3,640) # set Width\n",
        "    # cap.set(4,480) # set Height\n",
        "\n",
        "    from_excel_to_csv() # converting the excel to csv for use\n",
        "    getdata() # getting the data from csv in a dictionary\n",
        "    print('Total students :',names)\n",
        "\n",
        "    recognizer = cv2.face.LBPHFaceRecognizer_create() #LOCAL BINARY PATTERNS HISTOGRAMS Face Recognizer\n",
        "\n",
        "    recognizer.read(fname) # read the trained yml file\n",
        "\n",
        "    num=0\n",
        "    while True:   \n",
        "        ret, img = cap.read()\n",
        "        #img = cv2.rotate(img, rotateCode=cv2.ROTATE_90_CLOCKWISE)\n",
        "        #img = cv2.rotate(img, rotateCode=cv2.ROTATE_90_COUNTERCLOCKWISE)\n",
        "        gray = cv2.cvtColor(img, cv2.COLOR_BGR2GRAY)\n",
        "        equ = cv2.equalizeHist(gray) \n",
        "        final = cv2.medianBlur(equ, 3)\n",
        "\n",
        "        faces = face_cascade.detectMultiScale(final, 1.3, 5)\n",
        "        \n",
        "\n",
        "        for (x,y,w,h) in faces:\n",
        "            cv2.rectangle(img,(x,y),(x+w,y+h),(0,255,0),3)\n",
        "            label,confidence = recognizer.predict(gray[y:y+h,x:x+w])\n",
        "            print('label:',label)\n",
        "            print('confidence:',confidence)\n",
        "            predicted_name = names[label]\n",
        "            if confidence < 90:\n",
        "                confidence = 100 - round(confidence)\n",
        "                cv2.putText(img, predicted_name +str(confidence) +'%', (x+2,y+h-4), cv2.FONT_HERSHEY_SIMPLEX, 1, (150,255,0),2)\n",
        "                labels.append(label)\n",
        "                students.append(names[label])\n",
        "                totalstudents = set(students)\n",
        "                justlabels = set(labels)\n",
        "                print('student Recognised : ',totalstudents,justlabels)\n",
        "                for i in justlabels:\n",
        "                    if labels.count(i)>20:\n",
        "                        markPresent(names[label])\n",
        "    \n",
        "            \n",
        "\n",
        "            \n",
        "            \n",
        "            \n",
        "            cv2.imshow('Face Recognizer',img)\n",
        "            k = cv2.waitKey(30) & 0xff\n",
        "            # if cv2.waitKey(33) == ord('a'):\n",
        "            num+=1\n",
        "            if num>100:\n",
        "                cap.release()\n",
        "                sleep(4)\n",
        "                print('we are done!')\n",
        "                \n",
        "                break\n",
        "        \n",
        "\n",
        "\n",
        "\n",
        "    #cv2.destroyAllWindows()\n"
      ],
      "execution_count": 0,
      "outputs": []
    },
    {
      "cell_type": "code",
      "metadata": {
        "id": "Yzate-PljWRM",
        "colab_type": "code",
        "colab": {}
      },
      "source": [
        ""
      ],
      "execution_count": 0,
      "outputs": []
    }
  ]
}